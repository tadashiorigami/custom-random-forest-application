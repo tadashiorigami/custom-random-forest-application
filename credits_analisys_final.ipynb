{
 "cells": [
  {
   "cell_type": "markdown",
   "id": "8b431a1b-3488-4314-bc4d-2b0de5ce07e9",
   "metadata": {
    "tags": []
   },
   "source": [
    "# 1 - Introduction"
   ]
  },
  {
   "cell_type": "markdown",
   "id": "20fc942f-22e3-44ea-bea7-81732ca37086",
   "metadata": {},
   "source": [
    "In this exercise we will check how well custom methods works compared to the usual methods for solving the question \"How profitable is this model?\".\n",
    "\n",
    "The usual method to find a model is to: \n",
    "\n",
    "1. Make a classification algorithm by minimizing a default cost/loss function, or maximize the information gain based on the entropy, gini, classification error, etc...\n",
    "2. Select our best model based on other metrics, such as accuracy, recall, f1, AUC, etc... assessing the variance and bias so we have a good predictor without overfitting the model.\n",
    "3. Adjust the threshold for our needs by looking at the F1, recall, or some other parameter.\n",
    "\n",
    "There's an overwhelming amount of variables and methods to check your model's performance, usually focusing on making a classification first then adjusting the model for the final needs. \n",
    "\n",
    "As these models tries to optimize default parameters (MSE, Sigmoid, Entropy, etc...), in this exercise we will try to create models that optimizes the final goal (Profit) from the start, without using the usual performance metrics. To achieve this goal, we will compare the performance of Logistic Regression, Decision tree and Random forest with the custom models on predicting the highest profit rate.\n",
    "\n",
    "The proposed situation for this exercise is:\n",
    "\n",
    "* The credit card company loses some money on every bad transaction (false negatives). The loss will be set at 20% of the transaction.\n",
    "* The profits per good transaction (true negatives) is 5% of the transaction.\n",
    "* The presented dataset is unfiltered and clean.\n",
    "\n",
    "To get the best profit rates, we will use models to predict the **probability** of a chargeback, then find the best threshold for maximum profits.\n",
    "\n",
    "For the custom methods, we will make three models.\n",
    "\n",
    "* First method: Decision Tree using **Profit** as the score.\n",
    "* Second method: Decision tree with a \"varying score calculation\".\n",
    "* Third method: Decision based purely on statistics, no machine learning algorithms."
   ]
  },
  {
   "cell_type": "markdown",
   "id": "c127287a-1209-45a1-bf25-ce98bafc401b",
   "metadata": {},
   "source": [
    "The CustomDecisionTree library can be found on my github:\n",
    "    \n",
    "https://github.com/tadashiorigami"
   ]
  },
  {
   "cell_type": "code",
   "execution_count": 337,
   "id": "4b8b8d63-3f19-4213-a98b-75e1376fbcba",
   "metadata": {},
   "outputs": [
    {
     "data": {
      "text/plain": [
       "<module 'CustomDecisionTree' from 'C:\\\\Users\\\\tadas\\\\Desktop\\\\Programming studies\\\\7. decisiontree from scratch\\\\2. credits kaggle 2\\\\CustomDecisionTree.py'>"
      ]
     },
     "execution_count": 337,
     "metadata": {},
     "output_type": "execute_result"
    }
   ],
   "source": [
    "# Importing libraries\n",
    "from matplotlib import pyplot as plt\n",
    "import matplotlib.ticker as mtick\n",
    "import pandas as pd\n",
    "import numpy as np\n",
    "import seaborn as sns\n",
    "import random\n",
    "import time\n",
    "from numpy import searchsorted\n",
    "import math\n",
    "import datetime as dt\n",
    "\n",
    "#Models and pre-processing\n",
    "from sklearn.model_selection import train_test_split\n",
    "from sklearn.metrics import confusion_matrix, ConfusionMatrixDisplay\n",
    "from sklearn.linear_model import LogisticRegression\n",
    "from sklearn.preprocessing import StandardScaler\n",
    "from sklearn.tree import DecisionTreeClassifier\n",
    "from sklearn.ensemble import RandomForestClassifier\n",
    "from imblearn.over_sampling import SMOTE\n",
    "\n",
    "# Custom methods\n",
    "import CustomDecisionTree\n",
    "import importlib\n",
    "importlib.reload(CustomDecisionTree)\n",
    "\n",
    "sns.set(rc = {'figure.figsize':(15,8)})"
   ]
  },
  {
   "cell_type": "markdown",
   "id": "403a3b21-34a0-42c8-9c36-327289748185",
   "metadata": {
    "tags": []
   },
   "source": [
    "# 2 - Importing and preparing the data"
   ]
  },
  {
   "cell_type": "markdown",
   "id": "a25c59f5-01d7-4756-99ac-bb9627aaa4de",
   "metadata": {},
   "source": [
    "Link: https://www.kaggle.com/datasets/kartik2112/fraud-detection"
   ]
  },
  {
   "cell_type": "code",
   "execution_count": 386,
   "id": "181fcc1d-6a74-46f2-92e6-b97626d7cb0c",
   "metadata": {},
   "outputs": [
    {
     "data": {
      "text/plain": [
       "Index(['trans_date_trans_time', 'cc_num', 'merchant', 'category', 'amt',\n",
       "       'first', 'last', 'gender', 'street', 'city', 'state', 'zip', 'lat',\n",
       "       'long', 'city_pop', 'job', 'dob', 'trans_num', 'unix_time', 'merch_lat',\n",
       "       'merch_long', 'is_fraud'],\n",
       "      dtype='object')"
      ]
     },
     "execution_count": 386,
     "metadata": {},
     "output_type": "execute_result"
    }
   ],
   "source": [
    "train_df = pd.read_csv(\"fraudTrain.csv\", index_col=0)\n",
    "test_df = pd.read_csv(\"fraudTest.csv\", index_col=0)\n",
    "train_df.columns"
   ]
  },
  {
   "cell_type": "code",
   "execution_count": 20,
   "id": "d746174e-a0b9-4633-8cab-5c4f3120978d",
   "metadata": {},
   "outputs": [],
   "source": [
    "train_df.drop_duplicates(inplace=True)\n",
    "test_df.drop_duplicates(inplace=True)"
   ]
  },
  {
   "cell_type": "code",
   "execution_count": null,
   "id": "d16e012d-1d6d-4962-b161-cd728f21d649",
   "metadata": {},
   "outputs": [],
   "source": [
    "train_df['age']=dt.date.today().year-pd.to_datetime(train_df['dob']).dt.year\n",
    "test_df['age']=dt.date.today().year-pd.to_datetime(test_df['dob']).dt.year"
   ]
  },
  {
   "cell_type": "code",
   "execution_count": null,
   "id": "a474f56d-0297-47af-9083-a83e7467bce7",
   "metadata": {},
   "outputs": [],
   "source": [
    "train_df['day']=pd.to_datetime(train_df['trans_date_trans_time']).dt.dayofweek\n",
    "test_df['day']=pd.to_datetime(test_df['trans_date_trans_time']).dt.dayofweek"
   ]
  },
  {
   "cell_type": "code",
   "execution_count": null,
   "id": "9a93ffcc-75cf-4c8a-a1d5-b524d06eab0a",
   "metadata": {},
   "outputs": [],
   "source": [
    "train_df['hour']=pd.to_datetime(train_df['trans_date_trans_time']).dt.hour\n",
    "test_df['hour']=pd.to_datetime(test_df['trans_date_trans_time']).dt.hour"
   ]
  },
  {
   "cell_type": "code",
   "execution_count": null,
   "id": "4206cf83-c0b6-4ae2-bdac-03e3e3d066ef",
   "metadata": {},
   "outputs": [],
   "source": [
    "train_df['month']=pd.to_datetime(train_df['trans_date_trans_time']).dt.month\n",
    "test_df['month']=pd.to_datetime(test_df['trans_date_trans_time']).dt.month"
   ]
  },
  {
   "cell_type": "code",
   "execution_count": 141,
   "id": "6112bbd2-0704-4ec2-9586-362af333b5a5",
   "metadata": {},
   "outputs": [],
   "source": [
    "train=train_df[['category','amt','zip','lat','long','city_pop','merch_lat','merch_long','age','hour','day','month','is_fraud']]\n",
    "test=test_df[['category','amt','zip','lat','long','city_pop','merch_lat','merch_long','age','hour','day','month','is_fraud']]\n",
    "\n",
    "train=pd.get_dummies(train, drop_first=True)\n",
    "test=pd.get_dummies(test, drop_first=True)\n",
    "\n",
    "y_train=train['is_fraud']\n",
    "X_train=train.drop(\"is_fraud\", axis='columns')\n",
    "\n",
    "y_test=test['is_fraud']\n",
    "X_test=test.drop(\"is_fraud\", axis='columns')"
   ]
  },
  {
   "cell_type": "markdown",
   "id": "9a855804-770a-4fa7-ac01-ab6242215f0e",
   "metadata": {
    "tags": []
   },
   "source": [
    "# 3 - Useful functions:"
   ]
  },
  {
   "cell_type": "markdown",
   "id": "cdca8727-07eb-42b9-bc8e-4c52056f59a4",
   "metadata": {
    "tags": []
   },
   "source": [
    "### 3.1 - Creating the functions"
   ]
  },
  {
   "cell_type": "markdown",
   "id": "560447a0-bb37-47a0-a28a-a34bf6c2726f",
   "metadata": {},
   "source": [
    "Some of the functions we will use for our tests.\n",
    "\n",
    "- get_profit: Returns the profits you get from the approved transactions.\n",
    "- get_profit_range: Max profit - min profit\n",
    "- get_profit_percentage: Percentage of the max profit you get from the approved transactions.\n",
    "- find_best_threshold: Finds the best cut threshold from the probability array predicted by the model.\n",
    "- undersample_labels: Undersample to match the requested proportions.\n",
    "- plot_profit_threshold: Plots the threshold/profits% graph.\n",
    "- classify_over_threshold: Gets a probability list and returns a boolean list of the same size, classifying over the threshold.\n",
    "- get_precision_recall_fscore_accuracy_cm: Returns the precision, recall, f1, accuracy and the confusion matrix."
   ]
  },
  {
   "cell_type": "code",
   "execution_count": 47,
   "id": "5bff97b6-0ff2-4761-8fed-613391935b5a",
   "metadata": {},
   "outputs": [],
   "source": [
    "def get_profit(transaction_values, true_y, predicted_y, profit_rate, loss_rate):\n",
    "\n",
    "    if not isinstance(predicted_y, (np.ndarray, np.generic)):\n",
    "        predicted_y = np.array(predicted_y)\n",
    "    \n",
    "    if not isinstance(transaction_values, (np.ndarray, np.generic)):\n",
    "        transaction_values = transaction_values.to_numpy()\n",
    "    \n",
    "    if not isinstance(true_y, (np.ndarray, np.generic)):\n",
    "        true_y = true_y.to_numpy()\n",
    "    profits = transaction_values[(true_y==0) & (predicted_y==0)].sum()*profit_rate\n",
    "\n",
    "    losses = transaction_values[(true_y==1) & (predicted_y==0)].sum()*loss_rate\n",
    "    \n",
    "    return (profits-losses)"
   ]
  },
  {
   "cell_type": "code",
   "execution_count": 48,
   "id": "71648923-e3de-4340-a945-9d931e354dd5",
   "metadata": {},
   "outputs": [],
   "source": [
    "def get_profit_range(transaction_values, true_y, profit_rate, loss_rate):\n",
    "    max_profit = get_profit(transaction_values, true_y, true_y, profit_rate, loss_rate)\n",
    "    min_profit = get_profit(transaction_values, true_y, 1-true_y, profit_rate, loss_rate)\n",
    "    return (max_profit-min_profit)"
   ]
  },
  {
   "cell_type": "code",
   "execution_count": 49,
   "id": "67b3170a-a309-411f-bf81-2f44f28751a8",
   "metadata": {},
   "outputs": [],
   "source": [
    "# Function to get the profit percentage compared to the max-profit\n",
    "\n",
    "def get_profit_percentage(transaction_values, true_y, predicted_y, profit_rate, loss_rate):\n",
    "    max_profit = get_profit(transaction_values, true_y, true_y, profit_rate, loss_rate)\n",
    "    real_profit = get_profit(transaction_values, true_y, predicted_y, profit_rate, loss_rate)\n",
    "    return real_profit/max_profit"
   ]
  },
  {
   "cell_type": "code",
   "execution_count": 50,
   "id": "e06b3084-65df-4be6-88f1-4f602815da67",
   "metadata": {},
   "outputs": [],
   "source": [
    "def find_best_threshold(transaction_values, true_y, predictions_y, profit_rate, loss_rate):\n",
    "    # predictions_y is a list of predictions percentages\n",
    "    # first division in 100 parts\n",
    "    profits = []\n",
    "    max_profit = get_profit(transaction_values, true_y, true_y, profit_rate, loss_rate)\n",
    "    for i in range(101):\n",
    "        rate = (1/100)*i\n",
    "        y_pred = predictions_y.copy()\n",
    "        y_pred [y_pred > rate] = 1\n",
    "        y_pred [y_pred <= rate] = 0\n",
    "        profit = get_profit(transaction_values, true_y, y_pred, profit_rate, loss_rate)\n",
    "        profits.append([rate,profit, profit/max_profit])\n",
    "    \n",
    "    np_profits_ = np.array(profits)\n",
    "    top_percentage = np_profits_[np.where(np_profits_[:,1] == np_profits_[:,1].max())][:,0].mean()\n",
    "    \n",
    "    for i in range(5):\n",
    "        interval = (1/(100*(2**i)))\n",
    "        cut = (0.25/(2**i))\n",
    "        if top_percentage >= 1-cut:\n",
    "            top_percentage = 1-cut+ interval/2\n",
    "        elif top_percentage <= cut:\n",
    "            top_percentage = 1-cut\n",
    "        min_threshold =  (top_percentage - cut) \n",
    "        for j in range (51):\n",
    "            rate = min_threshold+interval*j\n",
    "            y_pred = predictions_y.copy()\n",
    "            y_pred [y_pred > rate] = 1\n",
    "            y_pred [y_pred <= rate] = 0\n",
    "            profit = get_profit(transaction_values, true_y, y_pred, profit_rate, loss_rate)\n",
    "            profits.append([rate,profit, profit/max_profit])\n",
    "        np_profits_ = np.array(profits)\n",
    "        top_percentage = np_profits_[np.where(np_profits_[:,1] == np_profits_[:,1].max())][:,0].mean()\n",
    "    return sorted(profits)"
   ]
  },
  {
   "cell_type": "code",
   "execution_count": 51,
   "id": "65a62e49-8a98-4d2d-9e76-20fe0ff19abf",
   "metadata": {},
   "outputs": [],
   "source": [
    "def plot_profit_threshold(np_profits):\n",
    "    plt.plot(np_profits[:,0]*100,np_profits[:,1])\n",
    "    plt.title('Profit x Probability')\n",
    "    plt.xlabel('% Chargeback prob threshold')\n",
    "    plt.ylabel('Profits')\n",
    "    plt.show()"
   ]
  },
  {
   "cell_type": "code",
   "execution_count": 52,
   "id": "29d719dd-c212-4f49-8abf-811765d8d3d3",
   "metadata": {},
   "outputs": [],
   "source": [
    "def classify_over_threshold(y_probabilities, threshold):\n",
    "    y_pred = y_probabilities.copy()\n",
    "    y_pred [y_pred > threshold] = 1\n",
    "    y_pred [y_pred <= threshold] = 0\n",
    "    return y_pred"
   ]
  },
  {
   "cell_type": "code",
   "execution_count": 591,
   "id": "f22eae27-7893-45e3-b29a-25575b675ac5",
   "metadata": {},
   "outputs": [],
   "source": [
    "def get_precision_recall_fscore_accuracy_cm(y_real,y_predicted):\n",
    "    cm = confusion_matrix(y_real, y_predicted)\n",
    "    precision = cm[1,1]/(cm[1,1]+cm[0,1])\n",
    "    recall = cm[1,1]/(cm[1,1]+cm[1,0])\n",
    "    if (precision == 0) or (recall == 0):\n",
    "        fscore = 0\n",
    "    else:\n",
    "        fscore = 2/((1/precision)+(1/recall))\n",
    "    accuracy = sum(y_real == y_predicted)/len(y_real)\n",
    "    return precision, recall, fscore, accuracy, cm"
   ]
  },
  {
   "cell_type": "markdown",
   "id": "c6ba5cd1-d411-4e22-80da-a9ee2679b28f",
   "metadata": {
    "tags": []
   },
   "source": [
    "# 4 - Initial settings"
   ]
  },
  {
   "cell_type": "markdown",
   "id": "b04fe0ba-63fe-4ab8-8a2a-11656b723eb3",
   "metadata": {},
   "source": [
    "To test different classifier methods, we will divide the sample in 80/20 train/test and the tests will be made on the same test sample for all methods.\n",
    "\n",
    "To make sure all models are training with the same train/test samples, we will use the same random_state in all examples.\n",
    "\n",
    "The model performance will be the \"profits percentage\", which will be the percentage of the max profits."
   ]
  },
  {
   "cell_type": "code",
   "execution_count": 659,
   "id": "3ebdae74-7809-483b-82f3-56ba4774c84c",
   "metadata": {},
   "outputs": [
    {
     "name": "stdout",
     "output_type": "stream",
     "text": [
      "Profit percentage on train set = 8.57%\n",
      "Profit percentage on test set = 39.44%\n"
     ]
    }
   ],
   "source": [
    "profit_rate = 0.05\n",
    "loss_rate = 1\n",
    "print(\"Profit percentage on train set = {:.2f}%\".format(get_profit_percentage(train['amt'], train['is_fraud'], np.zeros(len(y_train)), profit_rate, loss_rate)*100))\n",
    "print(\"Profit percentage on test set = {:.2f}%\".format(get_profit_percentage(test['amt'], test['is_fraud'], np.zeros(len(test)), profit_rate, loss_rate)*100))"
   ]
  },
  {
   "cell_type": "code",
   "execution_count": 567,
   "id": "1477ceaa-84c9-4c1a-be6f-c8a96826d8fd",
   "metadata": {},
   "outputs": [],
   "source": [
    "# oversampling to balance the dataset\n",
    "method= SMOTE(sampling_strategy=0.5)\n",
    "X_resampled, y_resampled = method.fit_resample(X_train, y_train)"
   ]
  },
  {
   "cell_type": "markdown",
   "id": "c05e36a8-4091-4ebd-8eef-9da2bb5bd502",
   "metadata": {},
   "source": [
    "# 5 - Testing the models"
   ]
  },
  {
   "cell_type": "markdown",
   "id": "500a8e9e-4e03-4e91-aaa8-b1140ae6e808",
   "metadata": {},
   "source": [
    "## Logistic Regression"
   ]
  },
  {
   "cell_type": "code",
   "execution_count": 620,
   "id": "bfdba879-71ed-4faf-8c17-8d72c8c446fb",
   "metadata": {},
   "outputs": [
    {
     "name": "stdout",
     "output_type": "stream",
     "text": [
      "Time spent on training normal: 9.84841169998981s\n",
      "Time spent on training oversampled: 9.936971900053322s\n"
     ]
    }
   ],
   "source": [
    "LR_model_normal=LogisticRegression()\n",
    "LR_model_resampled=LogisticRegression()\n",
    "\n",
    "start = time.perf_counter()\n",
    "LR_model_normal.fit(X_train,y_train)\n",
    "end = time.perf_counter()\n",
    "time_training = (end-start)\n",
    "print(f\"Time spent on training normal: {time_training}s\")\n",
    "\n",
    "start = time.perf_counter()\n",
    "LR_model_resampled.fit(X_resampled,y_resampled)\n",
    "end = time.perf_counter()\n",
    "time_training = (end-start)\n",
    "print(f\"Time spent on training oversampled: {time_training}s\")"
   ]
  },
  {
   "cell_type": "code",
   "execution_count": 621,
   "id": "6b0ec411-1c1a-490b-94ff-1d3320b6e293",
   "metadata": {},
   "outputs": [
    {
     "name": "stdout",
     "output_type": "stream",
     "text": [
      "Threshold for max profit = 1.0 %\n",
      "Test  Accuracy: 0.9614  Precision: 0.057  Recall: 0.579  F1: 0.104\n"
     ]
    },
    {
     "data": {
      "image/png": "[encoded data removed]",
      "text/plain": [
       "<Figure size 1080x576 with 1 Axes>"
      ]
     },
     "metadata": {},
     "output_type": "display_data"
    },
    {
     "name": "stdout",
     "output_type": "stream",
     "text": [
      "Confusion matrix:\n",
      " [[533032  20542]\n",
      " [   904   1241]]\n",
      "Profit percentage = 70.11%\n"
     ]
    }
   ],
   "source": [
    "train_proba = LR_model_normal.predict_proba(X_train)[:,1]\n",
    "test_proba = LR_model_normal.predict_proba(X_test)[:,1]\n",
    "\n",
    "profits = find_best_threshold(X_train['amt'], y_train, train_proba, profit_rate, loss_rate)\n",
    "np_profits = np.array(profits)\n",
    "top_percentage = np_profits[np.where(np_profits[:,1] == np_profits[:,1].max())][:,0].mean()\n",
    "\n",
    "pred = classify_over_threshold(test_proba, top_percentage)\n",
    "precision, recall, fscore, accuracy, cm = get_precision_recall_fscore_accuracy_cm(y_test,pred)\n",
    "\n",
    "print('Threshold for max profit =', top_percentage*100, '%')\n",
    "print(\"Test  Accuracy:\",round(accuracy,4) ,\" Precision:\", round(precision,3), \" Recall:\", round(recall,3), \" F1:\", round(fscore,3))\n",
    "\n",
    "plot_profit_threshold(np_profits)\n",
    "print('Confusion matrix:\\n', cm)\n",
    "\n",
    "\n",
    "print(\"Profit percentage = {:.2f}%\".format(get_profit_percentage(test['amt'], test['is_fraud'], pred, profit_rate, loss_rate)*100))"
   ]
  },
  {
   "cell_type": "code",
   "execution_count": 645,
   "id": "d566686f-416b-494d-ae22-439ecfb0251e",
   "metadata": {},
   "outputs": [
    {
     "name": "stdout",
     "output_type": "stream",
     "text": [
      "Threshold for max profit = 48.75 %\n",
      "Test  Accuracy: 0.9749  Precision: 0.103  Recall: 0.715  F1: 0.18\n"
     ]
    },
    {
     "data": {
      "image/png": "[encoded data removed]",
      "text/plain": [
       "<Figure size 1080x576 with 1 Axes>"
      ]
     },
     "metadata": {},
     "output_type": "display_data"
    },
    {
     "name": "stdout",
     "output_type": "stream",
     "text": [
      "Confusion matrix:\n",
      " [[540236  13338]\n",
      " [   612   1533]]\n",
      "Profit percentage = 76.72%\n"
     ]
    }
   ],
   "source": [
    "train_proba = LR_model_resampled.predict_proba(X_train)[:,1]\n",
    "test_proba = LR_model_resampled.predict_proba(X_test)[:,1]\n",
    "\n",
    "profits = find_best_threshold(X_train['amt'], y_train, train_proba, profit_rate, loss_rate)\n",
    "np_profits = np.array(profits)\n",
    "top_percentage = np_profits[np.where(np_profits[:,1] == np_profits[:,1].max())][:,0].mean()\n",
    "\n",
    "pred = classify_over_threshold(test_proba, top_percentage)\n",
    "precision, recall, fscore, accuracy, cm = get_precision_recall_fscore_accuracy_cm(y_test,pred)\n",
    "\n",
    "print('Threshold for max profit =', top_percentage*100, '%')\n",
    "print(\"Test  Accuracy:\",round(accuracy,4) ,\" Precision:\", round(precision,3), \" Recall:\", round(recall,3), \" F1:\", round(fscore,3))\n",
    "\n",
    "plot_profit_threshold(np_profits)\n",
    "print('Confusion matrix:\\n', cm)\n",
    "\n",
    "\n",
    "print(\"Profit percentage = {:.2f}%\".format(get_profit_percentage(X_test['amt'], y_test, pred, profit_rate, loss_rate)*100))"
   ]
  },
  {
   "cell_type": "code",
   "execution_count": 649,
   "id": "2c17b711-2e7d-48e0-a948-339254e8873e",
   "metadata": {},
   "outputs": [
    {
     "name": "stdout",
     "output_type": "stream",
     "text": [
      "LR Normal\n",
      "Accuracy: 0.995512  Precision: 0.0  Recall: 0.0  F1: 0\n",
      "Profit = 35.82%\n",
      "Confusion matrix:\n",
      " [[553225    349]\n",
      " [  2145      0]]\n",
      "------\n",
      "LR Oversampled\n",
      "Accuracy: 0.975734  Precision: 0.105  Recall: 0.706  F1: 0.183\n",
      "Profit = 76.78%\n",
      "Confusion matrix:\n",
      " [[540719  12855]\n",
      " [   630   1515]]\n"
     ]
    }
   ],
   "source": [
    "# Testing the default predictions (cut threshold 50%)\n",
    "pred = LR_model_normal.predict(X_test)\n",
    "precision, recall, fscore, accuracy, cm = get_precision_recall_fscore_accuracy_cm(y_test,pred)\n",
    "\n",
    "print(\"LR Normal\")\n",
    "print(\"Accuracy:\",round(accuracy,6) ,\" Precision:\", round(precision,3), \" Recall:\", round(recall,3), \" F1:\", round(fscore,3))\n",
    "print(\"Profit = {:.2f}%\".format(get_profit_percentage(X_test['amt'], y_test, pred, profit_rate, loss_rate)*100))\n",
    "print('Confusion matrix:\\n', cm)\n",
    "print(\"------\")\n",
    "pred = LR_model_resampled.predict(X_test)\n",
    "precision, recall, fscore, accuracy, cm = get_precision_recall_fscore_accuracy_cm(y_test,pred)\n",
    "\n",
    "print(\"LR Oversampled\")\n",
    "print(\"Accuracy:\",round(accuracy,6) ,\" Precision:\", round(precision,3), \" Recall:\", round(recall,3), \" F1:\", round(fscore,3))\n",
    "print(\"Profit = {:.2f}%\".format(get_profit_percentage(X_test['amt'], y_test, pred, profit_rate, loss_rate)*100))\n",
    "print('Confusion matrix:\\n', cm)"
   ]
  },
  {
   "cell_type": "markdown",
   "id": "8fb9542b-c909-4ac5-bc82-b2b3c2cc1ad8",
   "metadata": {
    "tags": []
   },
   "source": [
    "## Decision Tree"
   ]
  },
  {
   "cell_type": "code",
   "execution_count": 560,
   "id": "87ee63b5-f2d7-44b1-bae2-cfd0aa38603f",
   "metadata": {},
   "outputs": [
    {
     "name": "stdout",
     "output_type": "stream",
     "text": [
      "Time spent: 21.348635000002105\n"
     ]
    }
   ],
   "source": [
    "start = time.perf_counter()\n",
    "DT_model_normal = DecisionTreeClassifier(max_depth = 15, min_samples_split=200)\n",
    "DT_model_normal.fit(X_train,y_train)\n",
    "end = time.perf_counter()\n",
    "time_spent = (end-start)\n",
    "print(f\"Time spent: {time_spent}\")"
   ]
  },
  {
   "cell_type": "code",
   "execution_count": 601,
   "id": "3ecec2a3-2421-48b0-9840-442ecbd11edd",
   "metadata": {},
   "outputs": [
    {
     "name": "stdout",
     "output_type": "stream",
     "text": [
      "Threshold for max profit = 4.895833333333333 %\n",
      "Test  Accuracy: 0.9942  Precision: 0.392  Recall: 0.912  F1: 0.549\n"
     ]
    },
    {
     "data": {
      "image/png": "[encoded data removed]",
      "text/plain": [
       "<Figure size 1080x576 with 1 Axes>"
      ]
     },
     "metadata": {},
     "output_type": "display_data"
    },
    {
     "name": "stdout",
     "output_type": "stream",
     "text": [
      "Confusion matrix:\n",
      " [[550544   3030]\n",
      " [   189   1956]]\n",
      "Profit percentage = 96.40%\n"
     ]
    }
   ],
   "source": [
    "test_proba = DT_model_normal.predict_proba(X_test)[:,1]\n",
    "train_proba = DT_model_normal.predict_proba(X_train)[:,1]\n",
    "\n",
    "profits = find_best_threshold(X_train['amt'], y_train, train_proba, profit_rate, loss_rate)\n",
    "np_profits = np.array(profits)\n",
    "top_percentage = np_profits[np.where(np_profits[:,1] == np_profits[:,1].max())][:,0].mean()\n",
    "\n",
    "pred = classify_over_threshold(test_proba, top_percentage)\n",
    "precision, recall, fscore, accuracy, cm = get_precision_recall_fscore_accuracy_cm(test['is_fraud'],pred)\n",
    "\n",
    "print('Threshold for max profit =', top_percentage*100, '%')\n",
    "print(\"Test  Accuracy:\",round(accuracy,4) ,\" Precision:\", round(precision,3), \" Recall:\", round(recall,3), \" F1:\", round(fscore,3))\n",
    "\n",
    "plot_profit_threshold(np_profits)\n",
    "print('Confusion matrix:\\n', cm)\n",
    "\n",
    "print(\"Profit percentage = {:.2f}%\".format(get_profit_percentage(test['amt'], test['is_fraud'], pred, profit_rate, loss_rate)*100))"
   ]
  },
  {
   "cell_type": "code",
   "execution_count": 562,
   "id": "e54233ac-0ecc-4127-8382-66310f4e8c3e",
   "metadata": {},
   "outputs": [
    {
     "name": "stdout",
     "output_type": "stream",
     "text": [
      "Time spent: 42.823441500018816\n"
     ]
    }
   ],
   "source": [
    "start = time.perf_counter()\n",
    "DT_model_oversampled = DecisionTreeClassifier(max_depth = 25, min_samples_split=550)\n",
    "DT_model_oversampled.fit(X_resampled,y_resampled)\n",
    "end = time.perf_counter()\n",
    "time_spent = (end-start)\n",
    "print(f\"Time spent: {time_spent}\")"
   ]
  },
  {
   "cell_type": "code",
   "execution_count": 613,
   "id": "a3052e50-bad8-49d9-9b7b-29dde77f5656",
   "metadata": {},
   "outputs": [
    {
     "name": "stdout",
     "output_type": "stream",
     "text": [
      "Threshold for max profit = 63.950757575757564 %\n",
      "Test  Accuracy: 0.9873  Precision: 0.208  Recall: 0.818  F1: 0.332\n"
     ]
    },
    {
     "data": {
      "image/png": "[encoded data removed]",
      "text/plain": [
       "<Figure size 1080x576 with 1 Axes>"
      ]
     },
     "metadata": {},
     "output_type": "display_data"
    },
    {
     "name": "stdout",
     "output_type": "stream",
     "text": [
      "Confusion matrix:\n",
      " [[546896   6678]\n",
      " [   390   1755]]\n",
      "Profit percentage = 93.96%\n"
     ]
    }
   ],
   "source": [
    "test_proba = DT_model_oversampled.predict_proba(X_test)[:,1]\n",
    "train_proba = DT_model_oversampled.predict_proba(X_train)[:,1]\n",
    "\n",
    "profits = find_best_threshold(X_train['amt'], y_train, train_proba, profit_rate, loss_rate)\n",
    "np_profits = np.array(profits)\n",
    "top_percentage = np_profits[np.where(np_profits[:,1] == np_profits[:,1].max())][:,0].mean()\n",
    "\n",
    "pred = classify_over_threshold(test_proba, top_percentage)\n",
    "precision, recall, fscore, accuracy, cm = get_precision_recall_fscore_accuracy_cm(test['is_fraud'],pred)\n",
    "\n",
    "print('Threshold for max profit =', top_percentage*100, '%')\n",
    "print(\"Test  Accuracy:\",round(accuracy,4) ,\" Precision:\", round(precision,3), \" Recall:\", round(recall,3), \" F1:\", round(fscore,3))\n",
    "\n",
    "plot_profit_threshold(np_profits)\n",
    "print('Confusion matrix:\\n', cm)\n",
    "\n",
    "print(\"Profit percentage = {:.2f}%\".format(get_profit_percentage(test['amt'], test['is_fraud'], pred, profit_rate, loss_rate)*100))"
   ]
  },
  {
   "cell_type": "code",
   "execution_count": 651,
   "id": "deb9addf-cc06-40be-9260-fae27bea1e35",
   "metadata": {},
   "outputs": [
    {
     "name": "stdout",
     "output_type": "stream",
     "text": [
      "DT Normal\n",
      "Accuracy: 0.998483  Precision: 0.841  Recall: 0.748  F1: 0.792\n",
      "Profit = 91.19%\n",
      "Confusion matrix:\n",
      " [[553271    303]\n",
      " [   540   1605]]\n",
      "------\n",
      "DT Oversampled\n",
      "Accuracy: 0.979446  Precision: 0.142  Recall: 0.854  F1: 0.243\n",
      "Profit = 93.29%\n",
      "Confusion matrix:\n",
      " [[542466  11108]\n",
      " [   314   1831]]\n"
     ]
    }
   ],
   "source": [
    "# Testing the predictions\n",
    "\n",
    "pred = DT_model_normal.predict(X_test)\n",
    "precision, recall, fscore, accuracy, cm = get_precision_recall_fscore_accuracy_cm(test['is_fraud'],pred)\n",
    "\n",
    "print(\"DT Normal\")\n",
    "print(\"Accuracy:\",round(accuracy,6) ,\" Precision:\", round(precision,3), \" Recall:\", round(recall,3), \" F1:\", round(fscore,3))\n",
    "print(\"Profit = {:.2f}%\".format(get_profit_percentage(X_test['amt'], y_test, pred, profit_rate, loss_rate)*100))\n",
    "print('Confusion matrix:\\n', cm)\n",
    "print(\"------\")\n",
    "\n",
    "pred = DT_model_oversampled.predict(X_test)\n",
    "precision, recall, fscore, accuracy, cm = get_precision_recall_fscore_accuracy_cm(y_test,pred)\n",
    "\n",
    "print(\"DT Oversampled\")\n",
    "print(\"Accuracy:\",round(accuracy,6) ,\" Precision:\", round(precision,3), \" Recall:\", round(recall,3), \" F1:\", round(fscore,3))\n",
    "print(\"Profit = {:.2f}%\".format(get_profit_percentage(X_test['amt'], y_test, pred, profit_rate, loss_rate)*100))\n",
    "print('Confusion matrix:\\n', cm)"
   ]
  },
  {
   "cell_type": "markdown",
   "id": "88b771f7-0725-4c0a-afeb-6f773576fe83",
   "metadata": {},
   "source": [
    "## Random Forest"
   ]
  },
  {
   "cell_type": "code",
   "execution_count": 642,
   "id": "fb30d065-bb30-43a1-8448-28b5c286c313",
   "metadata": {},
   "outputs": [
    {
     "name": "stdout",
     "output_type": "stream",
     "text": [
      "Time spent on training normal: 549.0853008999838s\n"
     ]
    }
   ],
   "source": [
    "start = time.perf_counter()\n",
    "RF_model_normal = RandomForestClassifier(max_depth = 18)\n",
    "RF_model_normal.fit(X_train,y_train)\n",
    "end = time.perf_counter()\n",
    "time_training = (end-start)\n",
    "print(f\"Time spent on training normal: {time_training}s\")"
   ]
  },
  {
   "cell_type": "code",
   "execution_count": 643,
   "id": "11bf5d1c-e1a4-45ba-a4dc-133964b07c84",
   "metadata": {},
   "outputs": [
    {
     "name": "stdout",
     "output_type": "stream",
     "text": [
      "Threshold for max profit = 17.5 %\n",
      "Test  Accuracy: 0.9983  Precision: 0.768  Recall: 0.811  F1: 0.789\n"
     ]
    },
    {
     "data": {
      "image/png": "[encoded data removed]",
      "text/plain": [
       "<Figure size 1080x576 with 1 Axes>"
      ]
     },
     "metadata": {},
     "output_type": "display_data"
    },
    {
     "name": "stdout",
     "output_type": "stream",
     "text": [
      "Confusion matrix:\n",
      " [[553050    524]\n",
      " [   406   1739]]\n",
      "Profit percentage = 96.10%\n"
     ]
    }
   ],
   "source": [
    "# Model made with original train set\n",
    "test_proba = RF_model_normal.predict_proba(X_test)[:,1]\n",
    "train_proba = RF_model_normal.predict_proba(X_train)[:,1]\n",
    "\n",
    "profits = find_best_threshold(X_train['amt'], y_train, train_proba, profit_rate, loss_rate)\n",
    "np_profits = np.array(profits)\n",
    "top_percentage = np_profits[np.where(np_profits[:,1] == np_profits[:,1].max())][:,0].mean()\n",
    "\n",
    "pred = classify_over_threshold(test_proba, top_percentage)\n",
    "precision, recall, fscore, accuracy, cm = get_precision_recall_fscore_accuracy_cm(y_test,pred)\n",
    "\n",
    "print('Threshold for max profit =', top_percentage*100, '%')\n",
    "print(\"Test  Accuracy:\",round(accuracy,4) ,\" Precision:\", round(precision,3), \" Recall:\", round(recall,3), \" F1:\", round(fscore,3))\n",
    "\n",
    "plot_profit_threshold(np_profits)\n",
    "print('Confusion matrix:\\n', cm)\n",
    "\n",
    "\n",
    "print(\"Profit percentage = {:.2f}%\".format(get_profit_percentage(test['amt'], test['is_fraud'], pred, profit_rate, loss_rate)*100))"
   ]
  },
  {
   "cell_type": "code",
   "execution_count": 653,
   "id": "2198967a-3510-4839-8040-aeba132727ed",
   "metadata": {},
   "outputs": [
    {
     "name": "stdout",
     "output_type": "stream",
     "text": [
      "Time spent on training normal: 964.5912498999969s\n"
     ]
    }
   ],
   "source": [
    "start = time.perf_counter()\n",
    "RF_model_oversampled = RandomForestClassifier(max_depth = 18)\n",
    "RF_model_oversampled.fit(X_resampled,y_resampled)\n",
    "end = time.perf_counter()\n",
    "time_training = (end-start)\n",
    "print(f\"Time spent on training oversampled: {time_training}s\")"
   ]
  },
  {
   "cell_type": "code",
   "execution_count": 654,
   "id": "af856bb1-8346-4004-af76-2199bbfd7cbb",
   "metadata": {},
   "outputs": [
    {
     "name": "stdout",
     "output_type": "stream",
     "text": [
      "Threshold for max profit = 66.0 %\n",
      "Test  Accuracy: 0.9962  Precision: 0.507  Recall: 0.724  F1: 0.596\n"
     ]
    },
    {
     "data": {
      "image/png": "[encoded data removed]",
      "text/plain": [
       "<Figure size 1080x576 with 1 Axes>"
      ]
     },
     "metadata": {},
     "output_type": "display_data"
    },
    {
     "name": "stdout",
     "output_type": "stream",
     "text": [
      "Confusion matrix:\n",
      " [[552067   1507]\n",
      " [   593   1552]]\n",
      "Profit percentage = 91.45%\n"
     ]
    }
   ],
   "source": [
    "test_proba = RF_model_oversampled.predict_proba(X_test)[:,1]\n",
    "train_proba = RF_model_oversampled.predict_proba(X_train)[:,1]\n",
    "\n",
    "profits = find_best_threshold(X_train['amt'], y_train, train_proba, profit_rate, loss_rate)\n",
    "np_profits = np.array(profits)\n",
    "top_percentage = np_profits[np.where(np_profits[:,1] == np_profits[:,1].max())][:,0].mean()\n",
    "\n",
    "pred = classify_over_threshold(test_proba, top_percentage)\n",
    "precision, recall, fscore, accuracy, cm = get_precision_recall_fscore_accuracy_cm(y_test,pred)\n",
    "\n",
    "print('Threshold for max profit =', top_percentage*100, '%')\n",
    "print(\"Test  Accuracy:\",round(accuracy,4) ,\" Precision:\", round(precision,3), \" Recall:\", round(recall,3), \" F1:\", round(fscore,3))\n",
    "\n",
    "plot_profit_threshold(np_profits)\n",
    "print('Confusion matrix:\\n', cm)\n",
    "\n",
    "\n",
    "print(\"Profit percentage = {:.2f}%\".format(get_profit_percentage(test['amt'], test['is_fraud'], pred, profit_rate, loss_rate)*100))"
   ]
  },
  {
   "cell_type": "code",
   "execution_count": 655,
   "id": "72209038-ece3-4c33-8071-291c6090e3b2",
   "metadata": {},
   "outputs": [
    {
     "name": "stdout",
     "output_type": "stream",
     "text": [
      "RF normal\n",
      "Accuracy: 0.99862  Precision: 0.95  Recall: 0.678  F1: 0.791\n",
      "Profit = 88.01%\n",
      "Confusion matrix:\n",
      " [[553498     76]\n",
      " [   691   1454]]\n",
      "RF Oversampled\n",
      "Accuracy: 0.991276  Precision: 0.279  Recall: 0.793  F1: 0.412\n",
      "Profit = 93.94%\n",
      "Confusion matrix:\n",
      " [[549171   4403]\n",
      " [   445   1700]]\n"
     ]
    }
   ],
   "source": [
    "pred = RF_model_normal.predict(X_test)\n",
    "precision, recall, fscore, accuracy, cm = get_precision_recall_fscore_accuracy_cm(y_test,pred)\n",
    "\n",
    "print(\"RF normal\")\n",
    "print(\"Accuracy:\",round(accuracy,6) ,\" Precision:\", round(precision,3), \" Recall:\", round(recall,3), \" F1:\", round(fscore,3))\n",
    "print(\"Profit = {:.2f}%\".format(get_profit_percentage(X_test['amt'], y_test, pred, profit_rate, loss_rate)*100))\n",
    "print('Confusion matrix:\\n', cm)\n",
    "\n",
    "pred = RF_model_oversampled.predict(X_test)\n",
    "precision, recall, fscore, accuracy, cm = get_precision_recall_fscore_accuracy_cm(y_test,pred)\n",
    "\n",
    "print(\"RF Oversampled\")\n",
    "print(\"Accuracy:\",round(accuracy,6) ,\" Precision:\", round(precision,3), \" Recall:\", round(recall,3), \" F1:\", round(fscore,3))\n",
    "print(\"Profit = {:.2f}%\".format(get_profit_percentage(X_test['amt'], y_test, pred, profit_rate, loss_rate)*100))\n",
    "print('Confusion matrix:\\n', cm)"
   ]
  },
  {
   "cell_type": "markdown",
   "id": "ad8e82fd-c594-4eff-9386-d00b2ccaa828",
   "metadata": {},
   "source": [
    "## Adaptive decision tree"
   ]
  },
  {
   "cell_type": "code",
   "execution_count": 521,
   "id": "d264e24b-4b84-43fd-bd67-2e35afa934d9",
   "metadata": {},
   "outputs": [
    {
     "name": "stdout",
     "output_type": "stream",
     "text": [
      "Time spent on training: 199.49227940000128s\n"
     ]
    }
   ],
   "source": [
    "start = time.perf_counter()\n",
    "ADT_classifier = CustomDecisionTree.AdaptiveDecisionTreeClassifier(profit_rate, loss_rate, min_samples_split=200, max_depth=17, min_samples_profit=200 ,information_gain_cut=0.9)\n",
    "ADT_classifier.fit(X_train,y_train,X_train['amt'])\n",
    "end = time.perf_counter()\n",
    "time_training_ADT = (end-start)\n",
    "print(f\"Time spent on training: {time_training_ADT}s\")"
   ]
  },
  {
   "cell_type": "code",
   "execution_count": 564,
   "id": "978f75ea-ddde-461b-af76-040d779ba80e",
   "metadata": {},
   "outputs": [
    {
     "name": "stdout",
     "output_type": "stream",
     "text": [
      "Test  Accuracy: 0.9933  Precision: 0.354  Recall: 0.908  F1: 0.51\n",
      "ADT profit percentage: 96.63%\n",
      "[[550026   3548]\n",
      " [   198   1947]]\n"
     ]
    }
   ],
   "source": [
    "y_pred = ADT_classifier.predict(X_test)\n",
    "\n",
    "precision, recall, fscore, accuracy, cm = get_precision_recall_fscore_accuracy_cm(y_test,y_pred)\n",
    "profit_percentage = get_profit_percentage(X_test['amt'], y_test, y_pred, profit_rate, loss_rate)\n",
    "\n",
    "precision, recall, fscore, accuracy, cm = get_precision_recall_fscore_accuracy_cm(y_test,y_pred)\n",
    "\n",
    "print(\"Test  Accuracy:\",round(accuracy,4) ,\" Precision:\", round(precision,3), \" Recall:\", round(recall,3), \" F1:\", round(fscore,3))\n",
    "print(\"ADT profit percentage: {:.2f}%\".format(profit_percentage*100))\n",
    "print(cm)"
   ]
  },
  {
   "cell_type": "markdown",
   "id": "df642ab3-1e9a-462c-be7f-62e2471cf412",
   "metadata": {},
   "source": [
    "## Custom Random Forest"
   ]
  },
  {
   "cell_type": "code",
   "execution_count": 351,
   "id": "905be402-7460-4f5e-a691-359a32d7df2a",
   "metadata": {},
   "outputs": [
    {
     "name": "stdout",
     "output_type": "stream",
     "text": [
      "Training tree 0\n",
      "Training tree 10\n",
      "Training tree 20\n",
      "Training tree 30\n",
      "Training tree 40\n",
      "Training tree 50\n",
      "Training tree 60\n",
      "Training tree 70\n",
      "Training tree 80\n",
      "Training tree 90\n",
      "Finished training\n"
     ]
    }
   ],
   "source": [
    "CRF_classifier = CustomDecisionTree.CustomRandomForestClassifier(min_samples_split=20, max_depth=15,\n",
    "                                                                 num_trees=100, columns_per_tree = 20,\n",
    "                                                                 information_gain_cut=0.8, min_samples_profit=500)\n",
    "CRF_classifier.fit(X_train, y_train, X_train.amt, profit_rate, loss_rate)"
   ]
  },
  {
   "cell_type": "code",
   "execution_count": 631,
   "id": "e5e71f7d-886d-4f39-8ecc-cb10691eb663",
   "metadata": {},
   "outputs": [
    {
     "name": "stdout",
     "output_type": "stream",
     "text": [
      "Threshold for max profit = 45.45312500000001 %\n",
      "Test  Accuracy: 0.9967  Precision: 0.545  Recall: 0.878  F1: 0.672\n"
     ]
    },
    {
     "data": {
      "image/png": "[encoded data removed]",
      "text/plain": [
       "<Figure size 1080x576 with 1 Axes>"
      ]
     },
     "metadata": {},
     "output_type": "display_data"
    },
    {
     "name": "stdout",
     "output_type": "stream",
     "text": [
      "Confusion matrix:\n",
      " [[551999   1575]\n",
      " [   262   1883]]\n",
      "Profit percentage = 96.84%\n"
     ]
    }
   ],
   "source": [
    "CRF_train_proba = CRF_classifier.predict_proba(X_train)\n",
    "CRF_test_proba = CRF_classifier.predict_proba(X_test)\n",
    "\n",
    "profits = find_best_threshold(X_train['amt'], y_train, CRF_train_proba, profit_rate, loss_rate)\n",
    "np_profits = np.array(profits)\n",
    "top_percentage = np_profits[np.where(np_profits[:,1] == np_profits[:,1].max())][:,0].mean()\n",
    "pred = classify_over_threshold(CRF_test_proba, top_percentage)\n",
    "\n",
    "precision, recall, fscore, accuracy, cm = get_precision_recall_fscore_accuracy_cm(y_test,pred)\n",
    "\n",
    "print('Threshold for max profit =', top_percentage*100, '%')\n",
    "print(\"Test  Accuracy:\",round(accuracy,4) ,\" Precision:\", round(precision,3), \" Recall:\", round(recall,3), \" F1:\", round(fscore,3))\n",
    "\n",
    "plot_profit_threshold(np_profits)\n",
    "print('Confusion matrix:\\n', cm)\n",
    "\n",
    "print(\"Profit percentage = {:.2f}%\".format(get_profit_percentage(test['amt'], test['is_fraud'], pred, profit_rate, loss_rate)*100))"
   ]
  },
  {
   "cell_type": "markdown",
   "id": "687e0c93-4e16-4313-bafe-d05a54cade2a",
   "metadata": {},
   "source": [
    "# 6 - Result tables"
   ]
  },
  {
   "cell_type": "markdown",
   "id": "8bf07e8f-aafe-40b3-b2fd-fc215dde1da4",
   "metadata": {},
   "source": [
    "Results of all the models"
   ]
  },
  {
   "cell_type": "markdown",
   "id": "b4154768-bf84-4969-8ebf-f66677c213cb",
   "metadata": {},
   "source": [
    "| Model | Accuracy | Precision | Recall | F1 | Profit |\n",
    "| ------ | ------ | ------ | ------ | ------ | ------ |\n",
    "| LR normal | 96.14% | 5.7% | 57.9% | 10.4% | 70.11%|\n",
    "| LR Oversampled | 97.49% | 10.3% | 71.5% | 18.0% | 76.72% |\n",
    "| DT normal | 99.42% | 38.2% | 91.2% | 54.9% | 96.40%|\n",
    "| DT Oversampled | 98.73% | 20.8% | 81.8% | 33.2% | 93.96% | \n",
    "| ADT normal | 99.33% | 35.4% | 90.8% | 51.0% | 96.63% |\n",
    "| RF normal | 99.83% | 76.8% | 81.11% | 78.9% | 96.10% |\n",
    "| RF Oversampled | 99.62% | 50.7% | 72.4% | 59.6% | 91.45% |\n",
    "| CRF normal | 99.67% | 54.5% | 87.8% | 67.2% |96.84% |\n"
   ]
  },
  {
   "cell_type": "markdown",
   "id": "8e66cb87-67a4-4604-bcb3-910cdb5133f2",
   "metadata": {},
   "source": [
    "Results of the sklearn models without adjusting the threshold"
   ]
  },
  {
   "cell_type": "markdown",
   "id": "e42aa7a6-ab5f-4157-afe3-35d94e70163c",
   "metadata": {},
   "source": [
    "| Model | Accuracy | Precision | Recall | F1 | Profit |\n",
    "| ------ | ------ | ------ | ------ | ------ | ------ |\n",
    "| LR normal | 99.55% | 0.0% | 0.0% | 0.0% | 35.82%|\n",
    "| LR Oversampled | 97.57% | 10.8% | 70.6% | 18.6% | 76.78% |\n",
    "| DT normal | 99.85% | 84.1% | 74.8% | 79.2% | 91.19%|\n",
    "| DT Oversampled | 97.94% | 14.2% | 85.4% | 24.3% | 93.29% | \n",
    "| RF normal | 99.86% | 95.0% | 67.8% | 79.1% | 88.01% |\n",
    "| RF Oversampled | 99.12% | 27.9% | 79.3% | 41.2% | 93.94% |"
   ]
  }
 ],
 "metadata": {
  "kernelspec": {
   "display_name": "Python 3 (ipykernel)",
   "language": "python",
   "name": "python3"
  },
  "language_info": {
   "codemirror_mode": {
    "name": "ipython",
    "version": 3
   },
   "file_extension": ".py",
   "mimetype": "text/x-python",
   "name": "python",
   "nbconvert_exporter": "python",
   "pygments_lexer": "ipython3",
   "version": "3.9.12"
  }
 },
 "nbformat": 4,
 "nbformat_minor": 5
}
